{
  "cells": [
    {
      "cell_type": "markdown",
      "id": "802ffed1-00c3-4897-a076-269c77a73851",
      "metadata": {
        "id": "802ffed1-00c3-4897-a076-269c77a73851"
      },
      "source": [
        "$$\\Huge\\textbf{Data Mining}$$"
      ]
    },
    {
      "cell_type": "markdown",
      "id": "d46fdac6-2c11-409c-a68f-68e22b216e3c",
      "metadata": {
        "id": "d46fdac6-2c11-409c-a68f-68e22b216e3c"
      },
      "source": [
        "$$\\Large\\textbf{Breast Cancer Analysis}$$"
      ]
    },
    {
      "cell_type": "markdown",
      "id": "95cd00cb-3835-4c43-a245-b440a4c9780f",
      "metadata": {
        "id": "95cd00cb-3835-4c43-a245-b440a4c9780f"
      },
      "source": [
        "$$\\Large\\textbf{Daniel Elston}$$"
      ]
    },
    {
      "cell_type": "code",
      "execution_count": 1,
      "id": "7545b166-a4dd-4193-baf9-61900b4fae71",
      "metadata": {
        "id": "7545b166-a4dd-4193-baf9-61900b4fae71"
      },
      "outputs": [],
      "source": [
        "import textwrap\n",
        "import pandas as pd\n",
        "import numpy as np\n",
        "import sklearn.impute as ski\n",
        "import scipy.stats as sci\n",
        "import matplotlib.pyplot as plt\n",
        "import seaborn as sns\n",
        "from numpy.linalg import svd\n",
        "from sklearn import preprocessing\n",
        "from sklearn.preprocessing import StandardScaler\n",
        "from sklearn.decomposition import PCA\n",
        "from sklearn.preprocessing import LabelEncoder\n",
        "from sklearn.decomposition import PCA as pca\n",
        "from sklearn.decomposition import TruncatedSVD\n",
        "from sklearn.preprocessing import MinMaxScaler\n",
        "from sklearn.preprocessing import StandardScaler\n",
        "from sklearn.datasets import load_wine\n",
        "from sklearn.manifold import MDS\n",
        "from scipy.spatial import distance_matrix\n",
        "from scipy.spatial import distance"
      ]
    },
    {
      "cell_type": "markdown",
      "id": "9d68f1ff-d464-4110-9ca8-a2e815938cb3",
      "metadata": {
        "id": "9d68f1ff-d464-4110-9ca8-a2e815938cb3"
      },
      "source": [
        "$\\Large\\textbf{Section 6: Breast Cancer}$"
      ]
    },
    {
      "cell_type": "markdown",
      "id": "39c9a631-6bc4-405b-8e4b-44af67be0a47",
      "metadata": {
        "id": "39c9a631-6bc4-405b-8e4b-44af67be0a47"
      },
      "source": [
        "$\\large\\textbf{Section 6.1: Data Load In}$"
      ]
    },
    {
      "cell_type": "markdown",
      "id": "965f0e16-48cb-4b5d-be56-785eadea8dbb",
      "metadata": {
        "id": "965f0e16-48cb-4b5d-be56-785eadea8dbb"
      },
      "source": [
        "Loading in the data for the breast cancer dataset."
      ]
    },
    {
      "cell_type": "code",
      "execution_count": 2,
      "id": "07b6a183-f5b7-45f3-9081-fe541f44c4d3",
      "metadata": {
        "colab": {
          "base_uri": "https://localhost:8080/",
          "height": 424
        },
        "id": "07b6a183-f5b7-45f3-9081-fe541f44c4d3",
        "outputId": "1e392352-a064-4c21-e871-6509776cfd5f"
      },
      "outputs": [
        {
          "output_type": "execute_result",
          "data": {
            "text/plain": [
              "     Sample code  Clump Thickness  Uniformity of Cell Size  \\\n",
              "0        1000025                5                        1   \n",
              "1        1002945                5                        4   \n",
              "2        1015425                3                        1   \n",
              "3        1016277                6                        8   \n",
              "4        1017023                4                        1   \n",
              "..           ...              ...                      ...   \n",
              "694       776715                3                        1   \n",
              "695       841769                2                        1   \n",
              "696       888820                5                       10   \n",
              "697       897471                4                        8   \n",
              "698       897471                4                        8   \n",
              "\n",
              "     Uniformity of Cell Shape  Marginal Adhesion  Single Epithelial Cell Size  \\\n",
              "0                           1                  1                            2   \n",
              "1                           4                  5                            7   \n",
              "2                           1                  1                            2   \n",
              "3                           8                  1                            3   \n",
              "4                           1                  3                            2   \n",
              "..                        ...                ...                          ...   \n",
              "694                         1                  1                            3   \n",
              "695                         1                  1                            2   \n",
              "696                        10                  3                            7   \n",
              "697                         6                  4                            3   \n",
              "698                         8                  5                            4   \n",
              "\n",
              "    Bare Nuclei  Bland Chromatin  Normal Nucleoli  Mitoses  Class  \n",
              "0             1                3                1        1      2  \n",
              "1            10                3                2        1      2  \n",
              "2             2                3                1        1      2  \n",
              "3             4                3                7        1      2  \n",
              "4             1                3                1        1      2  \n",
              "..          ...              ...              ...      ...    ...  \n",
              "694           2                1                1        1      2  \n",
              "695           1                1                1        1      2  \n",
              "696           3                8               10        2      4  \n",
              "697           4               10                6        1      4  \n",
              "698           5               10                4        1      4  \n",
              "\n",
              "[699 rows x 11 columns]"
            ],
            "text/html": [
              "\n",
              "  <div id=\"df-6a3b1322-1a0f-41fe-b1aa-8520b63c4dd2\">\n",
              "    <div class=\"colab-df-container\">\n",
              "      <div>\n",
              "<style scoped>\n",
              "    .dataframe tbody tr th:only-of-type {\n",
              "        vertical-align: middle;\n",
              "    }\n",
              "\n",
              "    .dataframe tbody tr th {\n",
              "        vertical-align: top;\n",
              "    }\n",
              "\n",
              "    .dataframe thead th {\n",
              "        text-align: right;\n",
              "    }\n",
              "</style>\n",
              "<table border=\"1\" class=\"dataframe\">\n",
              "  <thead>\n",
              "    <tr style=\"text-align: right;\">\n",
              "      <th></th>\n",
              "      <th>Sample code</th>\n",
              "      <th>Clump Thickness</th>\n",
              "      <th>Uniformity of Cell Size</th>\n",
              "      <th>Uniformity of Cell Shape</th>\n",
              "      <th>Marginal Adhesion</th>\n",
              "      <th>Single Epithelial Cell Size</th>\n",
              "      <th>Bare Nuclei</th>\n",
              "      <th>Bland Chromatin</th>\n",
              "      <th>Normal Nucleoli</th>\n",
              "      <th>Mitoses</th>\n",
              "      <th>Class</th>\n",
              "    </tr>\n",
              "  </thead>\n",
              "  <tbody>\n",
              "    <tr>\n",
              "      <th>0</th>\n",
              "      <td>1000025</td>\n",
              "      <td>5</td>\n",
              "      <td>1</td>\n",
              "      <td>1</td>\n",
              "      <td>1</td>\n",
              "      <td>2</td>\n",
              "      <td>1</td>\n",
              "      <td>3</td>\n",
              "      <td>1</td>\n",
              "      <td>1</td>\n",
              "      <td>2</td>\n",
              "    </tr>\n",
              "    <tr>\n",
              "      <th>1</th>\n",
              "      <td>1002945</td>\n",
              "      <td>5</td>\n",
              "      <td>4</td>\n",
              "      <td>4</td>\n",
              "      <td>5</td>\n",
              "      <td>7</td>\n",
              "      <td>10</td>\n",
              "      <td>3</td>\n",
              "      <td>2</td>\n",
              "      <td>1</td>\n",
              "      <td>2</td>\n",
              "    </tr>\n",
              "    <tr>\n",
              "      <th>2</th>\n",
              "      <td>1015425</td>\n",
              "      <td>3</td>\n",
              "      <td>1</td>\n",
              "      <td>1</td>\n",
              "      <td>1</td>\n",
              "      <td>2</td>\n",
              "      <td>2</td>\n",
              "      <td>3</td>\n",
              "      <td>1</td>\n",
              "      <td>1</td>\n",
              "      <td>2</td>\n",
              "    </tr>\n",
              "    <tr>\n",
              "      <th>3</th>\n",
              "      <td>1016277</td>\n",
              "      <td>6</td>\n",
              "      <td>8</td>\n",
              "      <td>8</td>\n",
              "      <td>1</td>\n",
              "      <td>3</td>\n",
              "      <td>4</td>\n",
              "      <td>3</td>\n",
              "      <td>7</td>\n",
              "      <td>1</td>\n",
              "      <td>2</td>\n",
              "    </tr>\n",
              "    <tr>\n",
              "      <th>4</th>\n",
              "      <td>1017023</td>\n",
              "      <td>4</td>\n",
              "      <td>1</td>\n",
              "      <td>1</td>\n",
              "      <td>3</td>\n",
              "      <td>2</td>\n",
              "      <td>1</td>\n",
              "      <td>3</td>\n",
              "      <td>1</td>\n",
              "      <td>1</td>\n",
              "      <td>2</td>\n",
              "    </tr>\n",
              "    <tr>\n",
              "      <th>...</th>\n",
              "      <td>...</td>\n",
              "      <td>...</td>\n",
              "      <td>...</td>\n",
              "      <td>...</td>\n",
              "      <td>...</td>\n",
              "      <td>...</td>\n",
              "      <td>...</td>\n",
              "      <td>...</td>\n",
              "      <td>...</td>\n",
              "      <td>...</td>\n",
              "      <td>...</td>\n",
              "    </tr>\n",
              "    <tr>\n",
              "      <th>694</th>\n",
              "      <td>776715</td>\n",
              "      <td>3</td>\n",
              "      <td>1</td>\n",
              "      <td>1</td>\n",
              "      <td>1</td>\n",
              "      <td>3</td>\n",
              "      <td>2</td>\n",
              "      <td>1</td>\n",
              "      <td>1</td>\n",
              "      <td>1</td>\n",
              "      <td>2</td>\n",
              "    </tr>\n",
              "    <tr>\n",
              "      <th>695</th>\n",
              "      <td>841769</td>\n",
              "      <td>2</td>\n",
              "      <td>1</td>\n",
              "      <td>1</td>\n",
              "      <td>1</td>\n",
              "      <td>2</td>\n",
              "      <td>1</td>\n",
              "      <td>1</td>\n",
              "      <td>1</td>\n",
              "      <td>1</td>\n",
              "      <td>2</td>\n",
              "    </tr>\n",
              "    <tr>\n",
              "      <th>696</th>\n",
              "      <td>888820</td>\n",
              "      <td>5</td>\n",
              "      <td>10</td>\n",
              "      <td>10</td>\n",
              "      <td>3</td>\n",
              "      <td>7</td>\n",
              "      <td>3</td>\n",
              "      <td>8</td>\n",
              "      <td>10</td>\n",
              "      <td>2</td>\n",
              "      <td>4</td>\n",
              "    </tr>\n",
              "    <tr>\n",
              "      <th>697</th>\n",
              "      <td>897471</td>\n",
              "      <td>4</td>\n",
              "      <td>8</td>\n",
              "      <td>6</td>\n",
              "      <td>4</td>\n",
              "      <td>3</td>\n",
              "      <td>4</td>\n",
              "      <td>10</td>\n",
              "      <td>6</td>\n",
              "      <td>1</td>\n",
              "      <td>4</td>\n",
              "    </tr>\n",
              "    <tr>\n",
              "      <th>698</th>\n",
              "      <td>897471</td>\n",
              "      <td>4</td>\n",
              "      <td>8</td>\n",
              "      <td>8</td>\n",
              "      <td>5</td>\n",
              "      <td>4</td>\n",
              "      <td>5</td>\n",
              "      <td>10</td>\n",
              "      <td>4</td>\n",
              "      <td>1</td>\n",
              "      <td>4</td>\n",
              "    </tr>\n",
              "  </tbody>\n",
              "</table>\n",
              "<p>699 rows × 11 columns</p>\n",
              "</div>\n",
              "      <button class=\"colab-df-convert\" onclick=\"convertToInteractive('df-6a3b1322-1a0f-41fe-b1aa-8520b63c4dd2')\"\n",
              "              title=\"Convert this dataframe to an interactive table.\"\n",
              "              style=\"display:none;\">\n",
              "        \n",
              "  <svg xmlns=\"http://www.w3.org/2000/svg\" height=\"24px\"viewBox=\"0 0 24 24\"\n",
              "       width=\"24px\">\n",
              "    <path d=\"M0 0h24v24H0V0z\" fill=\"none\"/>\n",
              "    <path d=\"M18.56 5.44l.94 2.06.94-2.06 2.06-.94-2.06-.94-.94-2.06-.94 2.06-2.06.94zm-11 1L8.5 8.5l.94-2.06 2.06-.94-2.06-.94L8.5 2.5l-.94 2.06-2.06.94zm10 10l.94 2.06.94-2.06 2.06-.94-2.06-.94-.94-2.06-.94 2.06-2.06.94z\"/><path d=\"M17.41 7.96l-1.37-1.37c-.4-.4-.92-.59-1.43-.59-.52 0-1.04.2-1.43.59L10.3 9.45l-7.72 7.72c-.78.78-.78 2.05 0 2.83L4 21.41c.39.39.9.59 1.41.59.51 0 1.02-.2 1.41-.59l7.78-7.78 2.81-2.81c.8-.78.8-2.07 0-2.86zM5.41 20L4 18.59l7.72-7.72 1.47 1.35L5.41 20z\"/>\n",
              "  </svg>\n",
              "      </button>\n",
              "      \n",
              "  <style>\n",
              "    .colab-df-container {\n",
              "      display:flex;\n",
              "      flex-wrap:wrap;\n",
              "      gap: 12px;\n",
              "    }\n",
              "\n",
              "    .colab-df-convert {\n",
              "      background-color: #E8F0FE;\n",
              "      border: none;\n",
              "      border-radius: 50%;\n",
              "      cursor: pointer;\n",
              "      display: none;\n",
              "      fill: #1967D2;\n",
              "      height: 32px;\n",
              "      padding: 0 0 0 0;\n",
              "      width: 32px;\n",
              "    }\n",
              "\n",
              "    .colab-df-convert:hover {\n",
              "      background-color: #E2EBFA;\n",
              "      box-shadow: 0px 1px 2px rgba(60, 64, 67, 0.3), 0px 1px 3px 1px rgba(60, 64, 67, 0.15);\n",
              "      fill: #174EA6;\n",
              "    }\n",
              "\n",
              "    [theme=dark] .colab-df-convert {\n",
              "      background-color: #3B4455;\n",
              "      fill: #D2E3FC;\n",
              "    }\n",
              "\n",
              "    [theme=dark] .colab-df-convert:hover {\n",
              "      background-color: #434B5C;\n",
              "      box-shadow: 0px 1px 3px 1px rgba(0, 0, 0, 0.15);\n",
              "      filter: drop-shadow(0px 1px 2px rgba(0, 0, 0, 0.3));\n",
              "      fill: #FFFFFF;\n",
              "    }\n",
              "  </style>\n",
              "\n",
              "      <script>\n",
              "        const buttonEl =\n",
              "          document.querySelector('#df-6a3b1322-1a0f-41fe-b1aa-8520b63c4dd2 button.colab-df-convert');\n",
              "        buttonEl.style.display =\n",
              "          google.colab.kernel.accessAllowed ? 'block' : 'none';\n",
              "\n",
              "        async function convertToInteractive(key) {\n",
              "          const element = document.querySelector('#df-6a3b1322-1a0f-41fe-b1aa-8520b63c4dd2');\n",
              "          const dataTable =\n",
              "            await google.colab.kernel.invokeFunction('convertToInteractive',\n",
              "                                                     [key], {});\n",
              "          if (!dataTable) return;\n",
              "\n",
              "          const docLinkHtml = 'Like what you see? Visit the ' +\n",
              "            '<a target=\"_blank\" href=https://colab.research.google.com/notebooks/data_table.ipynb>data table notebook</a>'\n",
              "            + ' to learn more about interactive tables.';\n",
              "          element.innerHTML = '';\n",
              "          dataTable['output_type'] = 'display_data';\n",
              "          await google.colab.output.renderOutput(dataTable, element);\n",
              "          const docLink = document.createElement('div');\n",
              "          docLink.innerHTML = docLinkHtml;\n",
              "          element.appendChild(docLink);\n",
              "        }\n",
              "      </script>\n",
              "    </div>\n",
              "  </div>\n",
              "  "
            ]
          },
          "metadata": {},
          "execution_count": 2
        }
      ],
      "source": [
        "load3 = pd.read_csv('https://archive.ics.uci.edu/ml/machine-learning-databases/breast-cancer-wisconsin/breast-cancer-wisconsin.data', header=None)\n",
        "load3.columns = ['Sample code', 'Clump Thickness', 'Uniformity of Cell Size', 'Uniformity of Cell Shape',\n",
        "                'Marginal Adhesion', 'Single Epithelial Cell Size', 'Bare Nuclei', 'Bland Chromatin',\n",
        "                'Normal Nucleoli', 'Mitoses','Class']\n",
        "load3"
      ]
    },
    {
      "cell_type": "markdown",
      "id": "f70e672b-5137-4f8e-9637-8caf0f109f38",
      "metadata": {
        "id": "f70e672b-5137-4f8e-9637-8caf0f109f38"
      },
      "source": [
        "$$\\newline$$"
      ]
    },
    {
      "cell_type": "markdown",
      "id": "29285c19-7387-45bf-bacc-7be3347cf1c6",
      "metadata": {
        "id": "29285c19-7387-45bf-bacc-7be3347cf1c6"
      },
      "source": [
        "$\\large\\textbf{Section 6.2: Data Cleaning}$"
      ]
    },
    {
      "cell_type": "markdown",
      "id": "eb57a906-08b2-4fc4-a74f-01ad20e3eabd",
      "metadata": {
        "id": "eb57a906-08b2-4fc4-a74f-01ad20e3eabd"
      },
      "source": [
        "The data is cleaned to remove and object data types and missing values. Missing values are replaced with the median."
      ]
    },
    {
      "cell_type": "code",
      "execution_count": 3,
      "id": "a1a1b196-ae78-471e-baff-69e965e25cdc",
      "metadata": {
        "colab": {
          "base_uri": "https://localhost:8080/"
        },
        "id": "a1a1b196-ae78-471e-baff-69e965e25cdc",
        "outputId": "f6c56aaa-617f-456a-ee8a-0afa7b9c0062"
      },
      "outputs": [
        {
          "output_type": "stream",
          "name": "stdout",
          "text": [
            "Number of instances = 699\n",
            "Number of attributes = 11\n",
            "Number of missing values:\n",
            "\tSample code: 0\n",
            "\tClump Thickness: 0\n",
            "\tUniformity of Cell Size: 0\n",
            "\tUniformity of Cell Shape: 0\n",
            "\tMarginal Adhesion: 0\n",
            "\tSingle Epithelial Cell Size: 0\n",
            "\tBare Nuclei: 0\n",
            "\tBland Chromatin: 0\n",
            "\tNormal Nucleoli: 0\n",
            "\tMitoses: 0\n",
            "\tClass: 0\n"
          ]
        }
      ],
      "source": [
        "print('Number of instances = %d' % (load3.shape[0]))\n",
        "print('Number of attributes = %d' % (load3.shape[1]))\n",
        "\n",
        "print('Number of missing values:')\n",
        "for col in load3.columns:\n",
        "    print('\\t%s: %d' % (col,load3[col].isna().sum()))"
      ]
    },
    {
      "cell_type": "code",
      "execution_count": 4,
      "id": "d1a4fa0a-0059-4ad9-ac7b-3a8947952d29",
      "metadata": {
        "colab": {
          "base_uri": "https://localhost:8080/"
        },
        "id": "d1a4fa0a-0059-4ad9-ac7b-3a8947952d29",
        "outputId": "31deda6a-c2fe-4203-d0d0-8353b57b22ae"
      },
      "outputs": [
        {
          "output_type": "stream",
          "name": "stdout",
          "text": [
            "<class 'pandas.core.frame.DataFrame'>\n",
            "RangeIndex: 699 entries, 0 to 698\n",
            "Data columns (total 11 columns):\n",
            " #   Column                       Non-Null Count  Dtype \n",
            "---  ------                       --------------  ----- \n",
            " 0   Sample code                  699 non-null    int64 \n",
            " 1   Clump Thickness              699 non-null    int64 \n",
            " 2   Uniformity of Cell Size      699 non-null    int64 \n",
            " 3   Uniformity of Cell Shape     699 non-null    int64 \n",
            " 4   Marginal Adhesion            699 non-null    int64 \n",
            " 5   Single Epithelial Cell Size  699 non-null    int64 \n",
            " 6   Bare Nuclei                  699 non-null    object\n",
            " 7   Bland Chromatin              699 non-null    int64 \n",
            " 8   Normal Nucleoli              699 non-null    int64 \n",
            " 9   Mitoses                      699 non-null    int64 \n",
            " 10  Class                        699 non-null    int64 \n",
            "dtypes: int64(10), object(1)\n",
            "memory usage: 60.2+ KB\n"
          ]
        }
      ],
      "source": [
        "load3.info() "
      ]
    },
    {
      "cell_type": "code",
      "execution_count": 5,
      "id": "95dc76bb-2c8a-44c9-8cea-8e4d230a192d",
      "metadata": {
        "colab": {
          "base_uri": "https://localhost:8080/"
        },
        "id": "95dc76bb-2c8a-44c9-8cea-8e4d230a192d",
        "outputId": "8b689f94-6f69-482c-9572-99149da70816"
      },
      "outputs": [
        {
          "output_type": "stream",
          "name": "stdout",
          "text": [
            "\n",
            "Bare Nuclei values:\n",
            "['1' '10' '2' '4' '3' '9' '7' '?' '5' '8' '6']\n"
          ]
        }
      ],
      "source": [
        "print('\\nBare Nuclei values:')\n",
        "print(load3['Bare Nuclei'].unique())"
      ]
    },
    {
      "cell_type": "code",
      "execution_count": 6,
      "id": "65edbd51-b191-4215-bfe5-ea424e21b564",
      "metadata": {
        "colab": {
          "base_uri": "https://localhost:8080/"
        },
        "id": "65edbd51-b191-4215-bfe5-ea424e21b564",
        "outputId": "1db36f74-e922-4b92-8534-ad184d39831c"
      },
      "outputs": [
        {
          "output_type": "stream",
          "name": "stdout",
          "text": [
            "Finding the median of bare nuclei as an integar:\n"
          ]
        },
        {
          "output_type": "execute_result",
          "data": {
            "text/plain": [
              "1"
            ]
          },
          "metadata": {},
          "execution_count": 6
        }
      ],
      "source": [
        "print('Finding the median of bare nuclei as an integar:')\n",
        "out = pd.to_numeric(load3['Bare Nuclei'], errors='coerce').median()\n",
        "replace = int(out)\n",
        "replace"
      ]
    },
    {
      "cell_type": "code",
      "execution_count": 7,
      "id": "865ed068-5a3b-4b4f-955b-8b18a82cfbe9",
      "metadata": {
        "id": "865ed068-5a3b-4b4f-955b-8b18a82cfbe9"
      },
      "outputs": [],
      "source": [
        "df3 = load3.replace(['?'], [replace])"
      ]
    },
    {
      "cell_type": "code",
      "execution_count": 8,
      "id": "809cf9ee-34e7-49a9-914c-0242fd77baa8",
      "metadata": {
        "colab": {
          "base_uri": "https://localhost:8080/"
        },
        "id": "809cf9ee-34e7-49a9-914c-0242fd77baa8",
        "outputId": "8baa496e-95e2-4ce4-a685-af8f48294674"
      },
      "outputs": [
        {
          "output_type": "stream",
          "name": "stdout",
          "text": [
            "The resulting Bare Nuclei dataset values are:\n",
            "['1' '10' '2' '4' '3' '9' '7' 1 '5' '8' '6']\n"
          ]
        }
      ],
      "source": [
        "print('The resulting Bare Nuclei dataset values are:')\n",
        "print(df3['Bare Nuclei'].unique())"
      ]
    },
    {
      "cell_type": "code",
      "execution_count": 9,
      "id": "4aba5f39-923c-458d-96bc-ae9a9741ad13",
      "metadata": {
        "colab": {
          "base_uri": "https://localhost:8080/",
          "height": 424
        },
        "id": "4aba5f39-923c-458d-96bc-ae9a9741ad13",
        "outputId": "e57e3f54-4491-4ae3-f2a8-a7dd41da874d"
      },
      "outputs": [
        {
          "output_type": "execute_result",
          "data": {
            "text/plain": [
              "     Sample code  Clump Thickness  Uniformity of Cell Size  \\\n",
              "0        1000025                5                        1   \n",
              "1        1002945                5                        4   \n",
              "2        1015425                3                        1   \n",
              "3        1016277                6                        8   \n",
              "4        1017023                4                        1   \n",
              "..           ...              ...                      ...   \n",
              "694       776715                3                        1   \n",
              "695       841769                2                        1   \n",
              "696       888820                5                       10   \n",
              "697       897471                4                        8   \n",
              "698       897471                4                        8   \n",
              "\n",
              "     Uniformity of Cell Shape  Marginal Adhesion  Single Epithelial Cell Size  \\\n",
              "0                           1                  1                            2   \n",
              "1                           4                  5                            7   \n",
              "2                           1                  1                            2   \n",
              "3                           8                  1                            3   \n",
              "4                           1                  3                            2   \n",
              "..                        ...                ...                          ...   \n",
              "694                         1                  1                            3   \n",
              "695                         1                  1                            2   \n",
              "696                        10                  3                            7   \n",
              "697                         6                  4                            3   \n",
              "698                         8                  5                            4   \n",
              "\n",
              "     Bare Nuclei  Bland Chromatin  Normal Nucleoli  Mitoses  Class  \n",
              "0              1                3                1        1      2  \n",
              "1             10                3                2        1      2  \n",
              "2              2                3                1        1      2  \n",
              "3              4                3                7        1      2  \n",
              "4              1                3                1        1      2  \n",
              "..           ...              ...              ...      ...    ...  \n",
              "694            2                1                1        1      2  \n",
              "695            1                1                1        1      2  \n",
              "696            3                8               10        2      4  \n",
              "697            4               10                6        1      4  \n",
              "698            5               10                4        1      4  \n",
              "\n",
              "[699 rows x 11 columns]"
            ],
            "text/html": [
              "\n",
              "  <div id=\"df-dbd981f9-7328-497b-ba91-286de6074258\">\n",
              "    <div class=\"colab-df-container\">\n",
              "      <div>\n",
              "<style scoped>\n",
              "    .dataframe tbody tr th:only-of-type {\n",
              "        vertical-align: middle;\n",
              "    }\n",
              "\n",
              "    .dataframe tbody tr th {\n",
              "        vertical-align: top;\n",
              "    }\n",
              "\n",
              "    .dataframe thead th {\n",
              "        text-align: right;\n",
              "    }\n",
              "</style>\n",
              "<table border=\"1\" class=\"dataframe\">\n",
              "  <thead>\n",
              "    <tr style=\"text-align: right;\">\n",
              "      <th></th>\n",
              "      <th>Sample code</th>\n",
              "      <th>Clump Thickness</th>\n",
              "      <th>Uniformity of Cell Size</th>\n",
              "      <th>Uniformity of Cell Shape</th>\n",
              "      <th>Marginal Adhesion</th>\n",
              "      <th>Single Epithelial Cell Size</th>\n",
              "      <th>Bare Nuclei</th>\n",
              "      <th>Bland Chromatin</th>\n",
              "      <th>Normal Nucleoli</th>\n",
              "      <th>Mitoses</th>\n",
              "      <th>Class</th>\n",
              "    </tr>\n",
              "  </thead>\n",
              "  <tbody>\n",
              "    <tr>\n",
              "      <th>0</th>\n",
              "      <td>1000025</td>\n",
              "      <td>5</td>\n",
              "      <td>1</td>\n",
              "      <td>1</td>\n",
              "      <td>1</td>\n",
              "      <td>2</td>\n",
              "      <td>1</td>\n",
              "      <td>3</td>\n",
              "      <td>1</td>\n",
              "      <td>1</td>\n",
              "      <td>2</td>\n",
              "    </tr>\n",
              "    <tr>\n",
              "      <th>1</th>\n",
              "      <td>1002945</td>\n",
              "      <td>5</td>\n",
              "      <td>4</td>\n",
              "      <td>4</td>\n",
              "      <td>5</td>\n",
              "      <td>7</td>\n",
              "      <td>10</td>\n",
              "      <td>3</td>\n",
              "      <td>2</td>\n",
              "      <td>1</td>\n",
              "      <td>2</td>\n",
              "    </tr>\n",
              "    <tr>\n",
              "      <th>2</th>\n",
              "      <td>1015425</td>\n",
              "      <td>3</td>\n",
              "      <td>1</td>\n",
              "      <td>1</td>\n",
              "      <td>1</td>\n",
              "      <td>2</td>\n",
              "      <td>2</td>\n",
              "      <td>3</td>\n",
              "      <td>1</td>\n",
              "      <td>1</td>\n",
              "      <td>2</td>\n",
              "    </tr>\n",
              "    <tr>\n",
              "      <th>3</th>\n",
              "      <td>1016277</td>\n",
              "      <td>6</td>\n",
              "      <td>8</td>\n",
              "      <td>8</td>\n",
              "      <td>1</td>\n",
              "      <td>3</td>\n",
              "      <td>4</td>\n",
              "      <td>3</td>\n",
              "      <td>7</td>\n",
              "      <td>1</td>\n",
              "      <td>2</td>\n",
              "    </tr>\n",
              "    <tr>\n",
              "      <th>4</th>\n",
              "      <td>1017023</td>\n",
              "      <td>4</td>\n",
              "      <td>1</td>\n",
              "      <td>1</td>\n",
              "      <td>3</td>\n",
              "      <td>2</td>\n",
              "      <td>1</td>\n",
              "      <td>3</td>\n",
              "      <td>1</td>\n",
              "      <td>1</td>\n",
              "      <td>2</td>\n",
              "    </tr>\n",
              "    <tr>\n",
              "      <th>...</th>\n",
              "      <td>...</td>\n",
              "      <td>...</td>\n",
              "      <td>...</td>\n",
              "      <td>...</td>\n",
              "      <td>...</td>\n",
              "      <td>...</td>\n",
              "      <td>...</td>\n",
              "      <td>...</td>\n",
              "      <td>...</td>\n",
              "      <td>...</td>\n",
              "      <td>...</td>\n",
              "    </tr>\n",
              "    <tr>\n",
              "      <th>694</th>\n",
              "      <td>776715</td>\n",
              "      <td>3</td>\n",
              "      <td>1</td>\n",
              "      <td>1</td>\n",
              "      <td>1</td>\n",
              "      <td>3</td>\n",
              "      <td>2</td>\n",
              "      <td>1</td>\n",
              "      <td>1</td>\n",
              "      <td>1</td>\n",
              "      <td>2</td>\n",
              "    </tr>\n",
              "    <tr>\n",
              "      <th>695</th>\n",
              "      <td>841769</td>\n",
              "      <td>2</td>\n",
              "      <td>1</td>\n",
              "      <td>1</td>\n",
              "      <td>1</td>\n",
              "      <td>2</td>\n",
              "      <td>1</td>\n",
              "      <td>1</td>\n",
              "      <td>1</td>\n",
              "      <td>1</td>\n",
              "      <td>2</td>\n",
              "    </tr>\n",
              "    <tr>\n",
              "      <th>696</th>\n",
              "      <td>888820</td>\n",
              "      <td>5</td>\n",
              "      <td>10</td>\n",
              "      <td>10</td>\n",
              "      <td>3</td>\n",
              "      <td>7</td>\n",
              "      <td>3</td>\n",
              "      <td>8</td>\n",
              "      <td>10</td>\n",
              "      <td>2</td>\n",
              "      <td>4</td>\n",
              "    </tr>\n",
              "    <tr>\n",
              "      <th>697</th>\n",
              "      <td>897471</td>\n",
              "      <td>4</td>\n",
              "      <td>8</td>\n",
              "      <td>6</td>\n",
              "      <td>4</td>\n",
              "      <td>3</td>\n",
              "      <td>4</td>\n",
              "      <td>10</td>\n",
              "      <td>6</td>\n",
              "      <td>1</td>\n",
              "      <td>4</td>\n",
              "    </tr>\n",
              "    <tr>\n",
              "      <th>698</th>\n",
              "      <td>897471</td>\n",
              "      <td>4</td>\n",
              "      <td>8</td>\n",
              "      <td>8</td>\n",
              "      <td>5</td>\n",
              "      <td>4</td>\n",
              "      <td>5</td>\n",
              "      <td>10</td>\n",
              "      <td>4</td>\n",
              "      <td>1</td>\n",
              "      <td>4</td>\n",
              "    </tr>\n",
              "  </tbody>\n",
              "</table>\n",
              "<p>699 rows × 11 columns</p>\n",
              "</div>\n",
              "      <button class=\"colab-df-convert\" onclick=\"convertToInteractive('df-dbd981f9-7328-497b-ba91-286de6074258')\"\n",
              "              title=\"Convert this dataframe to an interactive table.\"\n",
              "              style=\"display:none;\">\n",
              "        \n",
              "  <svg xmlns=\"http://www.w3.org/2000/svg\" height=\"24px\"viewBox=\"0 0 24 24\"\n",
              "       width=\"24px\">\n",
              "    <path d=\"M0 0h24v24H0V0z\" fill=\"none\"/>\n",
              "    <path d=\"M18.56 5.44l.94 2.06.94-2.06 2.06-.94-2.06-.94-.94-2.06-.94 2.06-2.06.94zm-11 1L8.5 8.5l.94-2.06 2.06-.94-2.06-.94L8.5 2.5l-.94 2.06-2.06.94zm10 10l.94 2.06.94-2.06 2.06-.94-2.06-.94-.94-2.06-.94 2.06-2.06.94z\"/><path d=\"M17.41 7.96l-1.37-1.37c-.4-.4-.92-.59-1.43-.59-.52 0-1.04.2-1.43.59L10.3 9.45l-7.72 7.72c-.78.78-.78 2.05 0 2.83L4 21.41c.39.39.9.59 1.41.59.51 0 1.02-.2 1.41-.59l7.78-7.78 2.81-2.81c.8-.78.8-2.07 0-2.86zM5.41 20L4 18.59l7.72-7.72 1.47 1.35L5.41 20z\"/>\n",
              "  </svg>\n",
              "      </button>\n",
              "      \n",
              "  <style>\n",
              "    .colab-df-container {\n",
              "      display:flex;\n",
              "      flex-wrap:wrap;\n",
              "      gap: 12px;\n",
              "    }\n",
              "\n",
              "    .colab-df-convert {\n",
              "      background-color: #E8F0FE;\n",
              "      border: none;\n",
              "      border-radius: 50%;\n",
              "      cursor: pointer;\n",
              "      display: none;\n",
              "      fill: #1967D2;\n",
              "      height: 32px;\n",
              "      padding: 0 0 0 0;\n",
              "      width: 32px;\n",
              "    }\n",
              "\n",
              "    .colab-df-convert:hover {\n",
              "      background-color: #E2EBFA;\n",
              "      box-shadow: 0px 1px 2px rgba(60, 64, 67, 0.3), 0px 1px 3px 1px rgba(60, 64, 67, 0.15);\n",
              "      fill: #174EA6;\n",
              "    }\n",
              "\n",
              "    [theme=dark] .colab-df-convert {\n",
              "      background-color: #3B4455;\n",
              "      fill: #D2E3FC;\n",
              "    }\n",
              "\n",
              "    [theme=dark] .colab-df-convert:hover {\n",
              "      background-color: #434B5C;\n",
              "      box-shadow: 0px 1px 3px 1px rgba(0, 0, 0, 0.15);\n",
              "      filter: drop-shadow(0px 1px 2px rgba(0, 0, 0, 0.3));\n",
              "      fill: #FFFFFF;\n",
              "    }\n",
              "  </style>\n",
              "\n",
              "      <script>\n",
              "        const buttonEl =\n",
              "          document.querySelector('#df-dbd981f9-7328-497b-ba91-286de6074258 button.colab-df-convert');\n",
              "        buttonEl.style.display =\n",
              "          google.colab.kernel.accessAllowed ? 'block' : 'none';\n",
              "\n",
              "        async function convertToInteractive(key) {\n",
              "          const element = document.querySelector('#df-dbd981f9-7328-497b-ba91-286de6074258');\n",
              "          const dataTable =\n",
              "            await google.colab.kernel.invokeFunction('convertToInteractive',\n",
              "                                                     [key], {});\n",
              "          if (!dataTable) return;\n",
              "\n",
              "          const docLinkHtml = 'Like what you see? Visit the ' +\n",
              "            '<a target=\"_blank\" href=https://colab.research.google.com/notebooks/data_table.ipynb>data table notebook</a>'\n",
              "            + ' to learn more about interactive tables.';\n",
              "          element.innerHTML = '';\n",
              "          dataTable['output_type'] = 'display_data';\n",
              "          await google.colab.output.renderOutput(dataTable, element);\n",
              "          const docLink = document.createElement('div');\n",
              "          docLink.innerHTML = docLinkHtml;\n",
              "          element.appendChild(docLink);\n",
              "        }\n",
              "      </script>\n",
              "    </div>\n",
              "  </div>\n",
              "  "
            ]
          },
          "metadata": {},
          "execution_count": 9
        }
      ],
      "source": [
        "df3[\"Bare Nuclei\"] = pd.to_numeric(df3[\"Bare Nuclei\"], errors=\"coerce\")\n",
        "df3"
      ]
    },
    {
      "cell_type": "code",
      "execution_count": 10,
      "id": "355a15ce-3fd2-470e-b6c4-581283eb8e16",
      "metadata": {
        "colab": {
          "base_uri": "https://localhost:8080/"
        },
        "id": "355a15ce-3fd2-470e-b6c4-581283eb8e16",
        "outputId": "7ff539ab-2704-475b-977b-dded0b15cbae"
      },
      "outputs": [
        {
          "output_type": "stream",
          "name": "stdout",
          "text": [
            "<class 'pandas.core.frame.DataFrame'>\n",
            "RangeIndex: 699 entries, 0 to 698\n",
            "Data columns (total 11 columns):\n",
            " #   Column                       Non-Null Count  Dtype\n",
            "---  ------                       --------------  -----\n",
            " 0   Sample code                  699 non-null    int64\n",
            " 1   Clump Thickness              699 non-null    int64\n",
            " 2   Uniformity of Cell Size      699 non-null    int64\n",
            " 3   Uniformity of Cell Shape     699 non-null    int64\n",
            " 4   Marginal Adhesion            699 non-null    int64\n",
            " 5   Single Epithelial Cell Size  699 non-null    int64\n",
            " 6   Bare Nuclei                  699 non-null    int64\n",
            " 7   Bland Chromatin              699 non-null    int64\n",
            " 8   Normal Nucleoli              699 non-null    int64\n",
            " 9   Mitoses                      699 non-null    int64\n",
            " 10  Class                        699 non-null    int64\n",
            "dtypes: int64(11)\n",
            "memory usage: 60.2 KB\n"
          ]
        }
      ],
      "source": [
        "df3.info()"
      ]
    },
    {
      "cell_type": "markdown",
      "id": "263f96a3-0ccd-434e-ac02-0ce456bd526a",
      "metadata": {
        "id": "263f96a3-0ccd-434e-ac02-0ce456bd526a"
      },
      "source": [
        "$$\\newline$$"
      ]
    },
    {
      "cell_type": "markdown",
      "id": "d68b2d73-1125-44fc-ac09-4487a9385207",
      "metadata": {
        "id": "d68b2d73-1125-44fc-ac09-4487a9385207"
      },
      "source": [
        "$\\large\\textbf{Section 6.3: Data Normalisation}$"
      ]
    },
    {
      "cell_type": "markdown",
      "id": "c9b9a5c0-919e-4641-b149-f42a63586697",
      "metadata": {
        "id": "c9b9a5c0-919e-4641-b149-f42a63586697"
      },
      "source": [
        "The data is normalised using z-score normalisation. This is done column by column."
      ]
    },
    {
      "cell_type": "code",
      "execution_count": 11,
      "id": "1088656e-0041-47c2-9fe8-6dc618f1db07",
      "metadata": {
        "id": "1088656e-0041-47c2-9fe8-6dc618f1db07"
      },
      "outputs": [],
      "source": [
        "z_sc = sci.zscore(df3['Sample code'])\n",
        "z_ct = sci.zscore(df3['Clump Thickness'])\n",
        "z_uocs = sci.zscore(df3['Uniformity of Cell Size'])\n",
        "z_uocsh = sci.zscore(df3['Uniformity of Cell Shape'])\n",
        "z_ma = sci.zscore(df3['Marginal Adhesion'])\n",
        "\n",
        "z_secs = sci.zscore(df3['Single Epithelial Cell Size'])\n",
        "z_bn = sci.zscore(df3['Bare Nuclei'])\n",
        "z_bc = sci.zscore(df3['Bland Chromatin'])\n",
        "z_nn = sci.zscore(df3['Normal Nucleoli'])\n",
        "z_m = sci.zscore(df3['Mitoses'])"
      ]
    },
    {
      "cell_type": "code",
      "execution_count": 12,
      "id": "5ed15b0f-4db6-465b-9297-4371e30de4d6",
      "metadata": {
        "id": "5ed15b0f-4db6-465b-9297-4371e30de4d6"
      },
      "outputs": [],
      "source": [
        "z_scd = pd.DataFrame(z_sc)\n",
        "z_ctd = pd.DataFrame(z_ct)\n",
        "z_uocsd = pd.DataFrame(z_uocs)\n",
        "z_uocshd = pd.DataFrame(z_uocsh)\n",
        "z_mad = pd.DataFrame(z_ma)\n",
        "\n",
        "z_secsd = pd.DataFrame(z_secs)\n",
        "z_bnd = pd.DataFrame(z_bn)\n",
        "z_bcd = pd.DataFrame(z_bc)\n",
        "z_nnd = pd.DataFrame(z_nn)\n",
        "z_md = pd.DataFrame(z_m)"
      ]
    },
    {
      "cell_type": "code",
      "execution_count": 13,
      "id": "75fee3f2-e6f0-49ec-8417-e278133ea629",
      "metadata": {
        "colab": {
          "base_uri": "https://localhost:8080/",
          "height": 424
        },
        "id": "75fee3f2-e6f0-49ec-8417-e278133ea629",
        "outputId": "ff0130e9-ba56-45ff-bcbe-067223370479"
      },
      "outputs": [
        {
          "output_type": "execute_result",
          "data": {
            "text/plain": [
              "            0  Clump_Thickness  Uniformity_of_cell_Size  \\\n",
              "0   -0.116239         0.206936                -0.699995   \n",
              "1   -0.111504         0.206936                 0.283845   \n",
              "2   -0.091265        -0.503866                -0.699995   \n",
              "3   -0.089884         0.562336                 1.595632   \n",
              "4   -0.088674        -0.148465                -0.699995   \n",
              "..        ...              ...                      ...   \n",
              "694 -0.478370        -0.503866                -0.699995   \n",
              "695 -0.372875        -0.859266                -0.699995   \n",
              "696 -0.296575         0.206936                 2.251526   \n",
              "697 -0.282546        -0.148465                 1.595632   \n",
              "698 -0.282546        -0.148465                 1.595632   \n",
              "\n",
              "     Uniformity_of_cell_Shape  Marginal_Adhesion  Single_Epithelial_Cell_Size  \\\n",
              "0                   -0.743299          -0.633247                    -0.549561   \n",
              "1                    0.266875           0.768621                     1.710106   \n",
              "2                   -0.743299          -0.633247                    -0.549561   \n",
              "3                    1.613773          -0.633247                    -0.097628   \n",
              "4                   -0.743299           0.067687                    -0.549561   \n",
              "..                        ...                ...                          ...   \n",
              "694                 -0.743299          -0.633247                    -0.097628   \n",
              "695                 -0.743299          -0.633247                    -0.549561   \n",
              "696                  2.287222           0.067687                     1.710106   \n",
              "697                  0.940324           0.418154                    -0.097628   \n",
              "698                  1.613773           0.768621                     0.354305   \n",
              "\n",
              "     Bare_Nuclei  Bland_Chromatin  Normal_Nucleoli   Mitoses  \n",
              "0      -0.686979        -0.179662        -0.611825 -0.343912  \n",
              "1       1.799664        -0.179662        -0.284112 -0.343912  \n",
              "2      -0.410685        -0.179662        -0.611825 -0.343912  \n",
              "3       0.141902        -0.179662         1.354454 -0.343912  \n",
              "4      -0.686979        -0.179662        -0.611825 -0.343912  \n",
              "..           ...              ...              ...       ...  \n",
              "694    -0.410685        -1.000471        -0.611825 -0.343912  \n",
              "695    -0.686979        -1.000471        -0.611825 -0.343912  \n",
              "696    -0.134392         1.872361         2.337594  0.239570  \n",
              "697     0.141902         2.693171         1.026741 -0.343912  \n",
              "698     0.418196         2.693171         0.371315 -0.343912  \n",
              "\n",
              "[699 rows x 10 columns]"
            ],
            "text/html": [
              "\n",
              "  <div id=\"df-6990228c-32b1-4f59-a78c-ab10366b74dd\">\n",
              "    <div class=\"colab-df-container\">\n",
              "      <div>\n",
              "<style scoped>\n",
              "    .dataframe tbody tr th:only-of-type {\n",
              "        vertical-align: middle;\n",
              "    }\n",
              "\n",
              "    .dataframe tbody tr th {\n",
              "        vertical-align: top;\n",
              "    }\n",
              "\n",
              "    .dataframe thead th {\n",
              "        text-align: right;\n",
              "    }\n",
              "</style>\n",
              "<table border=\"1\" class=\"dataframe\">\n",
              "  <thead>\n",
              "    <tr style=\"text-align: right;\">\n",
              "      <th></th>\n",
              "      <th>0</th>\n",
              "      <th>Clump_Thickness</th>\n",
              "      <th>Uniformity_of_cell_Size</th>\n",
              "      <th>Uniformity_of_cell_Shape</th>\n",
              "      <th>Marginal_Adhesion</th>\n",
              "      <th>Single_Epithelial_Cell_Size</th>\n",
              "      <th>Bare_Nuclei</th>\n",
              "      <th>Bland_Chromatin</th>\n",
              "      <th>Normal_Nucleoli</th>\n",
              "      <th>Mitoses</th>\n",
              "    </tr>\n",
              "  </thead>\n",
              "  <tbody>\n",
              "    <tr>\n",
              "      <th>0</th>\n",
              "      <td>-0.116239</td>\n",
              "      <td>0.206936</td>\n",
              "      <td>-0.699995</td>\n",
              "      <td>-0.743299</td>\n",
              "      <td>-0.633247</td>\n",
              "      <td>-0.549561</td>\n",
              "      <td>-0.686979</td>\n",
              "      <td>-0.179662</td>\n",
              "      <td>-0.611825</td>\n",
              "      <td>-0.343912</td>\n",
              "    </tr>\n",
              "    <tr>\n",
              "      <th>1</th>\n",
              "      <td>-0.111504</td>\n",
              "      <td>0.206936</td>\n",
              "      <td>0.283845</td>\n",
              "      <td>0.266875</td>\n",
              "      <td>0.768621</td>\n",
              "      <td>1.710106</td>\n",
              "      <td>1.799664</td>\n",
              "      <td>-0.179662</td>\n",
              "      <td>-0.284112</td>\n",
              "      <td>-0.343912</td>\n",
              "    </tr>\n",
              "    <tr>\n",
              "      <th>2</th>\n",
              "      <td>-0.091265</td>\n",
              "      <td>-0.503866</td>\n",
              "      <td>-0.699995</td>\n",
              "      <td>-0.743299</td>\n",
              "      <td>-0.633247</td>\n",
              "      <td>-0.549561</td>\n",
              "      <td>-0.410685</td>\n",
              "      <td>-0.179662</td>\n",
              "      <td>-0.611825</td>\n",
              "      <td>-0.343912</td>\n",
              "    </tr>\n",
              "    <tr>\n",
              "      <th>3</th>\n",
              "      <td>-0.089884</td>\n",
              "      <td>0.562336</td>\n",
              "      <td>1.595632</td>\n",
              "      <td>1.613773</td>\n",
              "      <td>-0.633247</td>\n",
              "      <td>-0.097628</td>\n",
              "      <td>0.141902</td>\n",
              "      <td>-0.179662</td>\n",
              "      <td>1.354454</td>\n",
              "      <td>-0.343912</td>\n",
              "    </tr>\n",
              "    <tr>\n",
              "      <th>4</th>\n",
              "      <td>-0.088674</td>\n",
              "      <td>-0.148465</td>\n",
              "      <td>-0.699995</td>\n",
              "      <td>-0.743299</td>\n",
              "      <td>0.067687</td>\n",
              "      <td>-0.549561</td>\n",
              "      <td>-0.686979</td>\n",
              "      <td>-0.179662</td>\n",
              "      <td>-0.611825</td>\n",
              "      <td>-0.343912</td>\n",
              "    </tr>\n",
              "    <tr>\n",
              "      <th>...</th>\n",
              "      <td>...</td>\n",
              "      <td>...</td>\n",
              "      <td>...</td>\n",
              "      <td>...</td>\n",
              "      <td>...</td>\n",
              "      <td>...</td>\n",
              "      <td>...</td>\n",
              "      <td>...</td>\n",
              "      <td>...</td>\n",
              "      <td>...</td>\n",
              "    </tr>\n",
              "    <tr>\n",
              "      <th>694</th>\n",
              "      <td>-0.478370</td>\n",
              "      <td>-0.503866</td>\n",
              "      <td>-0.699995</td>\n",
              "      <td>-0.743299</td>\n",
              "      <td>-0.633247</td>\n",
              "      <td>-0.097628</td>\n",
              "      <td>-0.410685</td>\n",
              "      <td>-1.000471</td>\n",
              "      <td>-0.611825</td>\n",
              "      <td>-0.343912</td>\n",
              "    </tr>\n",
              "    <tr>\n",
              "      <th>695</th>\n",
              "      <td>-0.372875</td>\n",
              "      <td>-0.859266</td>\n",
              "      <td>-0.699995</td>\n",
              "      <td>-0.743299</td>\n",
              "      <td>-0.633247</td>\n",
              "      <td>-0.549561</td>\n",
              "      <td>-0.686979</td>\n",
              "      <td>-1.000471</td>\n",
              "      <td>-0.611825</td>\n",
              "      <td>-0.343912</td>\n",
              "    </tr>\n",
              "    <tr>\n",
              "      <th>696</th>\n",
              "      <td>-0.296575</td>\n",
              "      <td>0.206936</td>\n",
              "      <td>2.251526</td>\n",
              "      <td>2.287222</td>\n",
              "      <td>0.067687</td>\n",
              "      <td>1.710106</td>\n",
              "      <td>-0.134392</td>\n",
              "      <td>1.872361</td>\n",
              "      <td>2.337594</td>\n",
              "      <td>0.239570</td>\n",
              "    </tr>\n",
              "    <tr>\n",
              "      <th>697</th>\n",
              "      <td>-0.282546</td>\n",
              "      <td>-0.148465</td>\n",
              "      <td>1.595632</td>\n",
              "      <td>0.940324</td>\n",
              "      <td>0.418154</td>\n",
              "      <td>-0.097628</td>\n",
              "      <td>0.141902</td>\n",
              "      <td>2.693171</td>\n",
              "      <td>1.026741</td>\n",
              "      <td>-0.343912</td>\n",
              "    </tr>\n",
              "    <tr>\n",
              "      <th>698</th>\n",
              "      <td>-0.282546</td>\n",
              "      <td>-0.148465</td>\n",
              "      <td>1.595632</td>\n",
              "      <td>1.613773</td>\n",
              "      <td>0.768621</td>\n",
              "      <td>0.354305</td>\n",
              "      <td>0.418196</td>\n",
              "      <td>2.693171</td>\n",
              "      <td>0.371315</td>\n",
              "      <td>-0.343912</td>\n",
              "    </tr>\n",
              "  </tbody>\n",
              "</table>\n",
              "<p>699 rows × 10 columns</p>\n",
              "</div>\n",
              "      <button class=\"colab-df-convert\" onclick=\"convertToInteractive('df-6990228c-32b1-4f59-a78c-ab10366b74dd')\"\n",
              "              title=\"Convert this dataframe to an interactive table.\"\n",
              "              style=\"display:none;\">\n",
              "        \n",
              "  <svg xmlns=\"http://www.w3.org/2000/svg\" height=\"24px\"viewBox=\"0 0 24 24\"\n",
              "       width=\"24px\">\n",
              "    <path d=\"M0 0h24v24H0V0z\" fill=\"none\"/>\n",
              "    <path d=\"M18.56 5.44l.94 2.06.94-2.06 2.06-.94-2.06-.94-.94-2.06-.94 2.06-2.06.94zm-11 1L8.5 8.5l.94-2.06 2.06-.94-2.06-.94L8.5 2.5l-.94 2.06-2.06.94zm10 10l.94 2.06.94-2.06 2.06-.94-2.06-.94-.94-2.06-.94 2.06-2.06.94z\"/><path d=\"M17.41 7.96l-1.37-1.37c-.4-.4-.92-.59-1.43-.59-.52 0-1.04.2-1.43.59L10.3 9.45l-7.72 7.72c-.78.78-.78 2.05 0 2.83L4 21.41c.39.39.9.59 1.41.59.51 0 1.02-.2 1.41-.59l7.78-7.78 2.81-2.81c.8-.78.8-2.07 0-2.86zM5.41 20L4 18.59l7.72-7.72 1.47 1.35L5.41 20z\"/>\n",
              "  </svg>\n",
              "      </button>\n",
              "      \n",
              "  <style>\n",
              "    .colab-df-container {\n",
              "      display:flex;\n",
              "      flex-wrap:wrap;\n",
              "      gap: 12px;\n",
              "    }\n",
              "\n",
              "    .colab-df-convert {\n",
              "      background-color: #E8F0FE;\n",
              "      border: none;\n",
              "      border-radius: 50%;\n",
              "      cursor: pointer;\n",
              "      display: none;\n",
              "      fill: #1967D2;\n",
              "      height: 32px;\n",
              "      padding: 0 0 0 0;\n",
              "      width: 32px;\n",
              "    }\n",
              "\n",
              "    .colab-df-convert:hover {\n",
              "      background-color: #E2EBFA;\n",
              "      box-shadow: 0px 1px 2px rgba(60, 64, 67, 0.3), 0px 1px 3px 1px rgba(60, 64, 67, 0.15);\n",
              "      fill: #174EA6;\n",
              "    }\n",
              "\n",
              "    [theme=dark] .colab-df-convert {\n",
              "      background-color: #3B4455;\n",
              "      fill: #D2E3FC;\n",
              "    }\n",
              "\n",
              "    [theme=dark] .colab-df-convert:hover {\n",
              "      background-color: #434B5C;\n",
              "      box-shadow: 0px 1px 3px 1px rgba(0, 0, 0, 0.15);\n",
              "      filter: drop-shadow(0px 1px 2px rgba(0, 0, 0, 0.3));\n",
              "      fill: #FFFFFF;\n",
              "    }\n",
              "  </style>\n",
              "\n",
              "      <script>\n",
              "        const buttonEl =\n",
              "          document.querySelector('#df-6990228c-32b1-4f59-a78c-ab10366b74dd button.colab-df-convert');\n",
              "        buttonEl.style.display =\n",
              "          google.colab.kernel.accessAllowed ? 'block' : 'none';\n",
              "\n",
              "        async function convertToInteractive(key) {\n",
              "          const element = document.querySelector('#df-6990228c-32b1-4f59-a78c-ab10366b74dd');\n",
              "          const dataTable =\n",
              "            await google.colab.kernel.invokeFunction('convertToInteractive',\n",
              "                                                     [key], {});\n",
              "          if (!dataTable) return;\n",
              "\n",
              "          const docLinkHtml = 'Like what you see? Visit the ' +\n",
              "            '<a target=\"_blank\" href=https://colab.research.google.com/notebooks/data_table.ipynb>data table notebook</a>'\n",
              "            + ' to learn more about interactive tables.';\n",
              "          element.innerHTML = '';\n",
              "          dataTable['output_type'] = 'display_data';\n",
              "          await google.colab.output.renderOutput(dataTable, element);\n",
              "          const docLink = document.createElement('div');\n",
              "          docLink.innerHTML = docLinkHtml;\n",
              "          element.appendChild(docLink);\n",
              "        }\n",
              "      </script>\n",
              "    </div>\n",
              "  </div>\n",
              "  "
            ]
          },
          "metadata": {},
          "execution_count": 13
        }
      ],
      "source": [
        "df3_norm = z_scd.assign(Clump_Thickness = z_ctd,\n",
        "                   Uniformity_of_cell_Size = z_uocsd,\n",
        "                   Uniformity_of_cell_Shape = z_uocshd,\n",
        "                   Marginal_Adhesion = z_mad,\n",
        "                   Single_Epithelial_Cell_Size = z_secsd,\n",
        "                   Bare_Nuclei = z_bnd,\n",
        "                   Bland_Chromatin = z_bcd,\n",
        "                   Normal_Nucleoli = z_nnd,\n",
        "                   Mitoses = z_md\n",
        "                  )\n",
        "df3_norm"
      ]
    },
    {
      "cell_type": "markdown",
      "id": "474e723d-cd7d-4446-8ee7-82b81e38480b",
      "metadata": {
        "id": "474e723d-cd7d-4446-8ee7-82b81e38480b"
      },
      "source": [
        "$$\\newline$$"
      ]
    },
    {
      "cell_type": "markdown",
      "id": "108c89db-51f2-4ae3-a18b-d1eec817ce67",
      "metadata": {
        "id": "108c89db-51f2-4ae3-a18b-d1eec817ce67"
      },
      "source": [
        "$\\large\\textbf{Section 6.4: Principle Component Analysis}$"
      ]
    },
    {
      "cell_type": "markdown",
      "id": "7458b3fe-35f9-42cd-b9fc-19113823004d",
      "metadata": {
        "id": "7458b3fe-35f9-42cd-b9fc-19113823004d"
      },
      "source": [
        "Here I will pass a 3D dataset through a PCA of 2 components and plot the resulting scatter. I will then move on to pass the whole dataset through 2 components. Each part is complete with the covarient matrix and the explained variation per principle component."
      ]
    },
    {
      "cell_type": "markdown",
      "id": "ae158bb3-5261-4b79-a7b0-63c21c262f18",
      "metadata": {
        "id": "ae158bb3-5261-4b79-a7b0-63c21c262f18"
      },
      "source": [
        "Here is the 3D dataset passed using 2 components."
      ]
    },
    {
      "cell_type": "code",
      "execution_count": 14,
      "id": "2fd8aa38-aaba-45c9-a838-97b5d4bfdd58",
      "metadata": {
        "colab": {
          "base_uri": "https://localhost:8080/"
        },
        "id": "2fd8aa38-aaba-45c9-a838-97b5d4bfdd58",
        "outputId": "f81321ae-982c-43b5-8fe4-4b9930547c69"
      },
      "outputs": [
        {
          "output_type": "stream",
          "name": "stdout",
          "text": [
            "The covariant matrix for columns 3 and 4:\n"
          ]
        },
        {
          "output_type": "execute_result",
          "data": {
            "text/plain": [
              "array([[-0.04163563,  0.65552689,  0.90818117,  1.00143266,  0.68405782,\n",
              "         0.72069948,  0.70848734,  0.73700282,  0.72047704,  0.43953974]])"
            ]
          },
          "metadata": {},
          "execution_count": 14
        }
      ],
      "source": [
        "print('The covariant matrix for columns 3 and 4:')\n",
        "features = df3_norm.T\n",
        "cov_matrix = np.cov(features)\n",
        "cov_matrix[3:4]"
      ]
    },
    {
      "cell_type": "code",
      "execution_count": 15,
      "id": "1bf0bae5-e2b6-413e-846c-1549381f9342",
      "metadata": {
        "colab": {
          "base_uri": "https://localhost:8080/"
        },
        "id": "1bf0bae5-e2b6-413e-846c-1549381f9342",
        "outputId": "485062a2-8ef9-4081-f301-e6f2d04c919a"
      },
      "outputs": [
        {
          "output_type": "stream",
          "name": "stdout",
          "text": [
            "The eigenvector of columns 3 and 4:\n"
          ]
        },
        {
          "output_type": "execute_result",
          "data": {
            "text/plain": [
              "array([0.08894811])"
            ]
          },
          "metadata": {},
          "execution_count": 15
        }
      ],
      "source": [
        "print('The eigenvector of columns 3 and 4:')\n",
        "values, vectors = np.linalg.eig(cov_matrix)\n",
        "values[3:4]"
      ]
    },
    {
      "cell_type": "markdown",
      "id": "b12720c0-d086-44b0-9609-3a23f02bcd1d",
      "metadata": {
        "id": "b12720c0-d086-44b0-9609-3a23f02bcd1d"
      },
      "source": [
        "The dot product of the transpose matrices are computed. The resulting projected data is now put into a dataframe."
      ]
    },
    {
      "cell_type": "code",
      "execution_count": 16,
      "id": "87090b84-4e77-4322-9d1c-03966f045868",
      "metadata": {
        "colab": {
          "base_uri": "https://localhost:8080/",
          "height": 424
        },
        "id": "87090b84-4e77-4322-9d1c-03966f045868",
        "outputId": "3d0b4b52-0694-4796-96c8-1545cab98d03"
      },
      "outputs": [
        {
          "output_type": "execute_result",
          "data": {
            "text/plain": [
              "      PC1   PC2  Class\n",
              "0   -1.45  0.17      2\n",
              "1    1.47  0.17      2\n",
              "2   -1.58  0.16      2\n",
              "3    1.51 -0.05      2\n",
              "4   -1.33  0.15      2\n",
              "..    ...   ...    ...\n",
              "694 -1.69  0.53      2\n",
              "695 -2.05  0.42      2\n",
              "696  3.83 -0.02      4\n",
              "697  2.28  0.19      4\n",
              "698  2.67  0.19      4\n",
              "\n",
              "[699 rows x 3 columns]"
            ],
            "text/html": [
              "\n",
              "  <div id=\"df-299eab6a-200c-4a62-83fe-830bf7f65baf\">\n",
              "    <div class=\"colab-df-container\">\n",
              "      <div>\n",
              "<style scoped>\n",
              "    .dataframe tbody tr th:only-of-type {\n",
              "        vertical-align: middle;\n",
              "    }\n",
              "\n",
              "    .dataframe tbody tr th {\n",
              "        vertical-align: top;\n",
              "    }\n",
              "\n",
              "    .dataframe thead th {\n",
              "        text-align: right;\n",
              "    }\n",
              "</style>\n",
              "<table border=\"1\" class=\"dataframe\">\n",
              "  <thead>\n",
              "    <tr style=\"text-align: right;\">\n",
              "      <th></th>\n",
              "      <th>PC1</th>\n",
              "      <th>PC2</th>\n",
              "      <th>Class</th>\n",
              "    </tr>\n",
              "  </thead>\n",
              "  <tbody>\n",
              "    <tr>\n",
              "      <th>0</th>\n",
              "      <td>-1.45</td>\n",
              "      <td>0.17</td>\n",
              "      <td>2</td>\n",
              "    </tr>\n",
              "    <tr>\n",
              "      <th>1</th>\n",
              "      <td>1.47</td>\n",
              "      <td>0.17</td>\n",
              "      <td>2</td>\n",
              "    </tr>\n",
              "    <tr>\n",
              "      <th>2</th>\n",
              "      <td>-1.58</td>\n",
              "      <td>0.16</td>\n",
              "      <td>2</td>\n",
              "    </tr>\n",
              "    <tr>\n",
              "      <th>3</th>\n",
              "      <td>1.51</td>\n",
              "      <td>-0.05</td>\n",
              "      <td>2</td>\n",
              "    </tr>\n",
              "    <tr>\n",
              "      <th>4</th>\n",
              "      <td>-1.33</td>\n",
              "      <td>0.15</td>\n",
              "      <td>2</td>\n",
              "    </tr>\n",
              "    <tr>\n",
              "      <th>...</th>\n",
              "      <td>...</td>\n",
              "      <td>...</td>\n",
              "      <td>...</td>\n",
              "    </tr>\n",
              "    <tr>\n",
              "      <th>694</th>\n",
              "      <td>-1.69</td>\n",
              "      <td>0.53</td>\n",
              "      <td>2</td>\n",
              "    </tr>\n",
              "    <tr>\n",
              "      <th>695</th>\n",
              "      <td>-2.05</td>\n",
              "      <td>0.42</td>\n",
              "      <td>2</td>\n",
              "    </tr>\n",
              "    <tr>\n",
              "      <th>696</th>\n",
              "      <td>3.83</td>\n",
              "      <td>-0.02</td>\n",
              "      <td>4</td>\n",
              "    </tr>\n",
              "    <tr>\n",
              "      <th>697</th>\n",
              "      <td>2.28</td>\n",
              "      <td>0.19</td>\n",
              "      <td>4</td>\n",
              "    </tr>\n",
              "    <tr>\n",
              "      <th>698</th>\n",
              "      <td>2.67</td>\n",
              "      <td>0.19</td>\n",
              "      <td>4</td>\n",
              "    </tr>\n",
              "  </tbody>\n",
              "</table>\n",
              "<p>699 rows × 3 columns</p>\n",
              "</div>\n",
              "      <button class=\"colab-df-convert\" onclick=\"convertToInteractive('df-299eab6a-200c-4a62-83fe-830bf7f65baf')\"\n",
              "              title=\"Convert this dataframe to an interactive table.\"\n",
              "              style=\"display:none;\">\n",
              "        \n",
              "  <svg xmlns=\"http://www.w3.org/2000/svg\" height=\"24px\"viewBox=\"0 0 24 24\"\n",
              "       width=\"24px\">\n",
              "    <path d=\"M0 0h24v24H0V0z\" fill=\"none\"/>\n",
              "    <path d=\"M18.56 5.44l.94 2.06.94-2.06 2.06-.94-2.06-.94-.94-2.06-.94 2.06-2.06.94zm-11 1L8.5 8.5l.94-2.06 2.06-.94-2.06-.94L8.5 2.5l-.94 2.06-2.06.94zm10 10l.94 2.06.94-2.06 2.06-.94-2.06-.94-.94-2.06-.94 2.06-2.06.94z\"/><path d=\"M17.41 7.96l-1.37-1.37c-.4-.4-.92-.59-1.43-.59-.52 0-1.04.2-1.43.59L10.3 9.45l-7.72 7.72c-.78.78-.78 2.05 0 2.83L4 21.41c.39.39.9.59 1.41.59.51 0 1.02-.2 1.41-.59l7.78-7.78 2.81-2.81c.8-.78.8-2.07 0-2.86zM5.41 20L4 18.59l7.72-7.72 1.47 1.35L5.41 20z\"/>\n",
              "  </svg>\n",
              "      </button>\n",
              "      \n",
              "  <style>\n",
              "    .colab-df-container {\n",
              "      display:flex;\n",
              "      flex-wrap:wrap;\n",
              "      gap: 12px;\n",
              "    }\n",
              "\n",
              "    .colab-df-convert {\n",
              "      background-color: #E8F0FE;\n",
              "      border: none;\n",
              "      border-radius: 50%;\n",
              "      cursor: pointer;\n",
              "      display: none;\n",
              "      fill: #1967D2;\n",
              "      height: 32px;\n",
              "      padding: 0 0 0 0;\n",
              "      width: 32px;\n",
              "    }\n",
              "\n",
              "    .colab-df-convert:hover {\n",
              "      background-color: #E2EBFA;\n",
              "      box-shadow: 0px 1px 2px rgba(60, 64, 67, 0.3), 0px 1px 3px 1px rgba(60, 64, 67, 0.15);\n",
              "      fill: #174EA6;\n",
              "    }\n",
              "\n",
              "    [theme=dark] .colab-df-convert {\n",
              "      background-color: #3B4455;\n",
              "      fill: #D2E3FC;\n",
              "    }\n",
              "\n",
              "    [theme=dark] .colab-df-convert:hover {\n",
              "      background-color: #434B5C;\n",
              "      box-shadow: 0px 1px 3px 1px rgba(0, 0, 0, 0.15);\n",
              "      filter: drop-shadow(0px 1px 2px rgba(0, 0, 0, 0.3));\n",
              "      fill: #FFFFFF;\n",
              "    }\n",
              "  </style>\n",
              "\n",
              "      <script>\n",
              "        const buttonEl =\n",
              "          document.querySelector('#df-299eab6a-200c-4a62-83fe-830bf7f65baf button.colab-df-convert');\n",
              "        buttonEl.style.display =\n",
              "          google.colab.kernel.accessAllowed ? 'block' : 'none';\n",
              "\n",
              "        async function convertToInteractive(key) {\n",
              "          const element = document.querySelector('#df-299eab6a-200c-4a62-83fe-830bf7f65baf');\n",
              "          const dataTable =\n",
              "            await google.colab.kernel.invokeFunction('convertToInteractive',\n",
              "                                                     [key], {});\n",
              "          if (!dataTable) return;\n",
              "\n",
              "          const docLinkHtml = 'Like what you see? Visit the ' +\n",
              "            '<a target=\"_blank\" href=https://colab.research.google.com/notebooks/data_table.ipynb>data table notebook</a>'\n",
              "            + ' to learn more about interactive tables.';\n",
              "          element.innerHTML = '';\n",
              "          dataTable['output_type'] = 'display_data';\n",
              "          await google.colab.output.renderOutput(dataTable, element);\n",
              "          const docLink = document.createElement('div');\n",
              "          docLink.innerHTML = docLinkHtml;\n",
              "          element.appendChild(docLink);\n",
              "        }\n",
              "      </script>\n",
              "    </div>\n",
              "  </div>\n",
              "  "
            ]
          },
          "metadata": {},
          "execution_count": 16
        }
      ],
      "source": [
        "proj_1 = df3_norm.dot(vectors.T[0])\n",
        "proj_2 = df3_norm.dot(vectors.T[1])\n",
        "\n",
        "res = pd.DataFrame(proj_1, columns=['PC1'])\n",
        "res['PC2'] = proj_2\n",
        "res['Class'] = df3['Class']\n",
        "res.head()\n",
        "res.round(2)"
      ]
    },
    {
      "cell_type": "markdown",
      "id": "234e5ebd-a044-46c5-9d1a-40d377153f51",
      "metadata": {
        "id": "234e5ebd-a044-46c5-9d1a-40d377153f51"
      },
      "source": [
        "Outliers are dropped. Here is the dataframe for the 3D dataset over 2 components."
      ]
    },
    {
      "cell_type": "code",
      "execution_count": 17,
      "id": "d72e1c2b-3b84-4833-86d8-1179e22dd013",
      "metadata": {
        "id": "d72e1c2b-3b84-4833-86d8-1179e22dd013"
      },
      "outputs": [],
      "source": [
        "outliers = res.loc[(res['PC2']<= -5)]"
      ]
    },
    {
      "cell_type": "code",
      "execution_count": 18,
      "id": "a1d2a127-3ab5-4d6e-bf51-f5dd616a10c7",
      "metadata": {
        "colab": {
          "base_uri": "https://localhost:8080/",
          "height": 424
        },
        "id": "a1d2a127-3ab5-4d6e-bf51-f5dd616a10c7",
        "outputId": "8f1d54b7-3e33-4a13-d085-9bc847a00dcd"
      },
      "outputs": [
        {
          "output_type": "execute_result",
          "data": {
            "text/plain": [
              "          PC1       PC2  Class\n",
              "0   -1.451545  0.173314      2\n",
              "1    1.469490  0.167212      2\n",
              "2   -1.575359  0.161272      2\n",
              "3    1.507013 -0.051820      2\n",
              "4   -1.326824  0.153224      2\n",
              "..        ...       ...    ...\n",
              "694 -1.694439  0.526634      2\n",
              "695 -2.049581  0.419526      2\n",
              "696  3.832429 -0.020152      4\n",
              "697  2.277413  0.191940      4\n",
              "698  2.672162  0.185131      4\n",
              "\n",
              "[697 rows x 3 columns]"
            ],
            "text/html": [
              "\n",
              "  <div id=\"df-d87dd731-4194-40b7-9123-55b5be10b9ee\">\n",
              "    <div class=\"colab-df-container\">\n",
              "      <div>\n",
              "<style scoped>\n",
              "    .dataframe tbody tr th:only-of-type {\n",
              "        vertical-align: middle;\n",
              "    }\n",
              "\n",
              "    .dataframe tbody tr th {\n",
              "        vertical-align: top;\n",
              "    }\n",
              "\n",
              "    .dataframe thead th {\n",
              "        text-align: right;\n",
              "    }\n",
              "</style>\n",
              "<table border=\"1\" class=\"dataframe\">\n",
              "  <thead>\n",
              "    <tr style=\"text-align: right;\">\n",
              "      <th></th>\n",
              "      <th>PC1</th>\n",
              "      <th>PC2</th>\n",
              "      <th>Class</th>\n",
              "    </tr>\n",
              "  </thead>\n",
              "  <tbody>\n",
              "    <tr>\n",
              "      <th>0</th>\n",
              "      <td>-1.451545</td>\n",
              "      <td>0.173314</td>\n",
              "      <td>2</td>\n",
              "    </tr>\n",
              "    <tr>\n",
              "      <th>1</th>\n",
              "      <td>1.469490</td>\n",
              "      <td>0.167212</td>\n",
              "      <td>2</td>\n",
              "    </tr>\n",
              "    <tr>\n",
              "      <th>2</th>\n",
              "      <td>-1.575359</td>\n",
              "      <td>0.161272</td>\n",
              "      <td>2</td>\n",
              "    </tr>\n",
              "    <tr>\n",
              "      <th>3</th>\n",
              "      <td>1.507013</td>\n",
              "      <td>-0.051820</td>\n",
              "      <td>2</td>\n",
              "    </tr>\n",
              "    <tr>\n",
              "      <th>4</th>\n",
              "      <td>-1.326824</td>\n",
              "      <td>0.153224</td>\n",
              "      <td>2</td>\n",
              "    </tr>\n",
              "    <tr>\n",
              "      <th>...</th>\n",
              "      <td>...</td>\n",
              "      <td>...</td>\n",
              "      <td>...</td>\n",
              "    </tr>\n",
              "    <tr>\n",
              "      <th>694</th>\n",
              "      <td>-1.694439</td>\n",
              "      <td>0.526634</td>\n",
              "      <td>2</td>\n",
              "    </tr>\n",
              "    <tr>\n",
              "      <th>695</th>\n",
              "      <td>-2.049581</td>\n",
              "      <td>0.419526</td>\n",
              "      <td>2</td>\n",
              "    </tr>\n",
              "    <tr>\n",
              "      <th>696</th>\n",
              "      <td>3.832429</td>\n",
              "      <td>-0.020152</td>\n",
              "      <td>4</td>\n",
              "    </tr>\n",
              "    <tr>\n",
              "      <th>697</th>\n",
              "      <td>2.277413</td>\n",
              "      <td>0.191940</td>\n",
              "      <td>4</td>\n",
              "    </tr>\n",
              "    <tr>\n",
              "      <th>698</th>\n",
              "      <td>2.672162</td>\n",
              "      <td>0.185131</td>\n",
              "      <td>4</td>\n",
              "    </tr>\n",
              "  </tbody>\n",
              "</table>\n",
              "<p>697 rows × 3 columns</p>\n",
              "</div>\n",
              "      <button class=\"colab-df-convert\" onclick=\"convertToInteractive('df-d87dd731-4194-40b7-9123-55b5be10b9ee')\"\n",
              "              title=\"Convert this dataframe to an interactive table.\"\n",
              "              style=\"display:none;\">\n",
              "        \n",
              "  <svg xmlns=\"http://www.w3.org/2000/svg\" height=\"24px\"viewBox=\"0 0 24 24\"\n",
              "       width=\"24px\">\n",
              "    <path d=\"M0 0h24v24H0V0z\" fill=\"none\"/>\n",
              "    <path d=\"M18.56 5.44l.94 2.06.94-2.06 2.06-.94-2.06-.94-.94-2.06-.94 2.06-2.06.94zm-11 1L8.5 8.5l.94-2.06 2.06-.94-2.06-.94L8.5 2.5l-.94 2.06-2.06.94zm10 10l.94 2.06.94-2.06 2.06-.94-2.06-.94-.94-2.06-.94 2.06-2.06.94z\"/><path d=\"M17.41 7.96l-1.37-1.37c-.4-.4-.92-.59-1.43-.59-.52 0-1.04.2-1.43.59L10.3 9.45l-7.72 7.72c-.78.78-.78 2.05 0 2.83L4 21.41c.39.39.9.59 1.41.59.51 0 1.02-.2 1.41-.59l7.78-7.78 2.81-2.81c.8-.78.8-2.07 0-2.86zM5.41 20L4 18.59l7.72-7.72 1.47 1.35L5.41 20z\"/>\n",
              "  </svg>\n",
              "      </button>\n",
              "      \n",
              "  <style>\n",
              "    .colab-df-container {\n",
              "      display:flex;\n",
              "      flex-wrap:wrap;\n",
              "      gap: 12px;\n",
              "    }\n",
              "\n",
              "    .colab-df-convert {\n",
              "      background-color: #E8F0FE;\n",
              "      border: none;\n",
              "      border-radius: 50%;\n",
              "      cursor: pointer;\n",
              "      display: none;\n",
              "      fill: #1967D2;\n",
              "      height: 32px;\n",
              "      padding: 0 0 0 0;\n",
              "      width: 32px;\n",
              "    }\n",
              "\n",
              "    .colab-df-convert:hover {\n",
              "      background-color: #E2EBFA;\n",
              "      box-shadow: 0px 1px 2px rgba(60, 64, 67, 0.3), 0px 1px 3px 1px rgba(60, 64, 67, 0.15);\n",
              "      fill: #174EA6;\n",
              "    }\n",
              "\n",
              "    [theme=dark] .colab-df-convert {\n",
              "      background-color: #3B4455;\n",
              "      fill: #D2E3FC;\n",
              "    }\n",
              "\n",
              "    [theme=dark] .colab-df-convert:hover {\n",
              "      background-color: #434B5C;\n",
              "      box-shadow: 0px 1px 3px 1px rgba(0, 0, 0, 0.15);\n",
              "      filter: drop-shadow(0px 1px 2px rgba(0, 0, 0, 0.3));\n",
              "      fill: #FFFFFF;\n",
              "    }\n",
              "  </style>\n",
              "\n",
              "      <script>\n",
              "        const buttonEl =\n",
              "          document.querySelector('#df-d87dd731-4194-40b7-9123-55b5be10b9ee button.colab-df-convert');\n",
              "        buttonEl.style.display =\n",
              "          google.colab.kernel.accessAllowed ? 'block' : 'none';\n",
              "\n",
              "        async function convertToInteractive(key) {\n",
              "          const element = document.querySelector('#df-d87dd731-4194-40b7-9123-55b5be10b9ee');\n",
              "          const dataTable =\n",
              "            await google.colab.kernel.invokeFunction('convertToInteractive',\n",
              "                                                     [key], {});\n",
              "          if (!dataTable) return;\n",
              "\n",
              "          const docLinkHtml = 'Like what you see? Visit the ' +\n",
              "            '<a target=\"_blank\" href=https://colab.research.google.com/notebooks/data_table.ipynb>data table notebook</a>'\n",
              "            + ' to learn more about interactive tables.';\n",
              "          element.innerHTML = '';\n",
              "          dataTable['output_type'] = 'display_data';\n",
              "          await google.colab.output.renderOutput(dataTable, element);\n",
              "          const docLink = document.createElement('div');\n",
              "          docLink.innerHTML = docLinkHtml;\n",
              "          element.appendChild(docLink);\n",
              "        }\n",
              "      </script>\n",
              "    </div>\n",
              "  </div>\n",
              "  "
            ]
          },
          "metadata": {},
          "execution_count": 18
        }
      ],
      "source": [
        "drop = res.drop(outliers.index)\n",
        "drop"
      ]
    },
    {
      "cell_type": "markdown",
      "id": "84a66da3-1f80-4ead-bc0e-9a8ab3ee5a53",
      "metadata": {
        "id": "84a66da3-1f80-4ead-bc0e-9a8ab3ee5a53"
      },
      "source": [
        "Here is the dataframe for the whole dataset over 2 components."
      ]
    },
    {
      "cell_type": "code",
      "execution_count": 19,
      "id": "5b205573-5757-43cf-b212-8f82ac2f34fe",
      "metadata": {
        "colab": {
          "base_uri": "https://localhost:8080/"
        },
        "id": "5b205573-5757-43cf-b212-8f82ac2f34fe",
        "outputId": "8b03eb1f-b39d-4f0c-a68b-a0d282385643"
      },
      "outputs": [
        {
          "output_type": "stream",
          "name": "stderr",
          "text": [
            "/usr/local/lib/python3.7/dist-packages/sklearn/utils/validation.py:1692: FutureWarning: Feature names only support names that are all strings. Got feature names with dtypes: ['int', 'str']. An error will be raised in 1.2.\n",
            "  FutureWarning,\n",
            "/usr/local/lib/python3.7/dist-packages/sklearn/utils/validation.py:1692: FutureWarning: Feature names only support names that are all strings. Got feature names with dtypes: ['int', 'str']. An error will be raised in 1.2.\n",
            "  FutureWarning,\n"
          ]
        }
      ],
      "source": [
        "x = StandardScaler().fit_transform(df3_norm)"
      ]
    },
    {
      "cell_type": "code",
      "execution_count": 20,
      "id": "efc88fad-cdad-45d0-8b85-213aba658525",
      "metadata": {
        "id": "efc88fad-cdad-45d0-8b85-213aba658525"
      },
      "outputs": [],
      "source": [
        "pca_breast = PCA(n_components=2)\n",
        "principalComponents_breast = pca_breast.fit_transform(x)"
      ]
    },
    {
      "cell_type": "code",
      "execution_count": 21,
      "id": "8e1a4be1-fba7-4a43-904e-24b929be9e96",
      "metadata": {
        "colab": {
          "base_uri": "https://localhost:8080/",
          "height": 424
        },
        "id": "8e1a4be1-fba7-4a43-904e-24b929be9e96",
        "outputId": "8b1f3aab-c460-41e0-e02d-52f942f2e96f"
      },
      "outputs": [
        {
          "output_type": "execute_result",
          "data": {
            "text/plain": [
              "          PC1       PC2\n",
              "0   -1.451545 -0.173314\n",
              "1    1.469490 -0.167212\n",
              "2   -1.575359 -0.161272\n",
              "3    1.507013  0.051820\n",
              "4   -1.326824 -0.153224\n",
              "..        ...       ...\n",
              "694 -1.694439 -0.526634\n",
              "695 -2.049581 -0.419526\n",
              "696  3.832429  0.020152\n",
              "697  2.277413 -0.191940\n",
              "698  2.672162 -0.185131\n",
              "\n",
              "[699 rows x 2 columns]"
            ],
            "text/html": [
              "\n",
              "  <div id=\"df-bb671e0a-7ebd-429f-b2a8-94ae47c81a65\">\n",
              "    <div class=\"colab-df-container\">\n",
              "      <div>\n",
              "<style scoped>\n",
              "    .dataframe tbody tr th:only-of-type {\n",
              "        vertical-align: middle;\n",
              "    }\n",
              "\n",
              "    .dataframe tbody tr th {\n",
              "        vertical-align: top;\n",
              "    }\n",
              "\n",
              "    .dataframe thead th {\n",
              "        text-align: right;\n",
              "    }\n",
              "</style>\n",
              "<table border=\"1\" class=\"dataframe\">\n",
              "  <thead>\n",
              "    <tr style=\"text-align: right;\">\n",
              "      <th></th>\n",
              "      <th>PC1</th>\n",
              "      <th>PC2</th>\n",
              "    </tr>\n",
              "  </thead>\n",
              "  <tbody>\n",
              "    <tr>\n",
              "      <th>0</th>\n",
              "      <td>-1.451545</td>\n",
              "      <td>-0.173314</td>\n",
              "    </tr>\n",
              "    <tr>\n",
              "      <th>1</th>\n",
              "      <td>1.469490</td>\n",
              "      <td>-0.167212</td>\n",
              "    </tr>\n",
              "    <tr>\n",
              "      <th>2</th>\n",
              "      <td>-1.575359</td>\n",
              "      <td>-0.161272</td>\n",
              "    </tr>\n",
              "    <tr>\n",
              "      <th>3</th>\n",
              "      <td>1.507013</td>\n",
              "      <td>0.051820</td>\n",
              "    </tr>\n",
              "    <tr>\n",
              "      <th>4</th>\n",
              "      <td>-1.326824</td>\n",
              "      <td>-0.153224</td>\n",
              "    </tr>\n",
              "    <tr>\n",
              "      <th>...</th>\n",
              "      <td>...</td>\n",
              "      <td>...</td>\n",
              "    </tr>\n",
              "    <tr>\n",
              "      <th>694</th>\n",
              "      <td>-1.694439</td>\n",
              "      <td>-0.526634</td>\n",
              "    </tr>\n",
              "    <tr>\n",
              "      <th>695</th>\n",
              "      <td>-2.049581</td>\n",
              "      <td>-0.419526</td>\n",
              "    </tr>\n",
              "    <tr>\n",
              "      <th>696</th>\n",
              "      <td>3.832429</td>\n",
              "      <td>0.020152</td>\n",
              "    </tr>\n",
              "    <tr>\n",
              "      <th>697</th>\n",
              "      <td>2.277413</td>\n",
              "      <td>-0.191940</td>\n",
              "    </tr>\n",
              "    <tr>\n",
              "      <th>698</th>\n",
              "      <td>2.672162</td>\n",
              "      <td>-0.185131</td>\n",
              "    </tr>\n",
              "  </tbody>\n",
              "</table>\n",
              "<p>699 rows × 2 columns</p>\n",
              "</div>\n",
              "      <button class=\"colab-df-convert\" onclick=\"convertToInteractive('df-bb671e0a-7ebd-429f-b2a8-94ae47c81a65')\"\n",
              "              title=\"Convert this dataframe to an interactive table.\"\n",
              "              style=\"display:none;\">\n",
              "        \n",
              "  <svg xmlns=\"http://www.w3.org/2000/svg\" height=\"24px\"viewBox=\"0 0 24 24\"\n",
              "       width=\"24px\">\n",
              "    <path d=\"M0 0h24v24H0V0z\" fill=\"none\"/>\n",
              "    <path d=\"M18.56 5.44l.94 2.06.94-2.06 2.06-.94-2.06-.94-.94-2.06-.94 2.06-2.06.94zm-11 1L8.5 8.5l.94-2.06 2.06-.94-2.06-.94L8.5 2.5l-.94 2.06-2.06.94zm10 10l.94 2.06.94-2.06 2.06-.94-2.06-.94-.94-2.06-.94 2.06-2.06.94z\"/><path d=\"M17.41 7.96l-1.37-1.37c-.4-.4-.92-.59-1.43-.59-.52 0-1.04.2-1.43.59L10.3 9.45l-7.72 7.72c-.78.78-.78 2.05 0 2.83L4 21.41c.39.39.9.59 1.41.59.51 0 1.02-.2 1.41-.59l7.78-7.78 2.81-2.81c.8-.78.8-2.07 0-2.86zM5.41 20L4 18.59l7.72-7.72 1.47 1.35L5.41 20z\"/>\n",
              "  </svg>\n",
              "      </button>\n",
              "      \n",
              "  <style>\n",
              "    .colab-df-container {\n",
              "      display:flex;\n",
              "      flex-wrap:wrap;\n",
              "      gap: 12px;\n",
              "    }\n",
              "\n",
              "    .colab-df-convert {\n",
              "      background-color: #E8F0FE;\n",
              "      border: none;\n",
              "      border-radius: 50%;\n",
              "      cursor: pointer;\n",
              "      display: none;\n",
              "      fill: #1967D2;\n",
              "      height: 32px;\n",
              "      padding: 0 0 0 0;\n",
              "      width: 32px;\n",
              "    }\n",
              "\n",
              "    .colab-df-convert:hover {\n",
              "      background-color: #E2EBFA;\n",
              "      box-shadow: 0px 1px 2px rgba(60, 64, 67, 0.3), 0px 1px 3px 1px rgba(60, 64, 67, 0.15);\n",
              "      fill: #174EA6;\n",
              "    }\n",
              "\n",
              "    [theme=dark] .colab-df-convert {\n",
              "      background-color: #3B4455;\n",
              "      fill: #D2E3FC;\n",
              "    }\n",
              "\n",
              "    [theme=dark] .colab-df-convert:hover {\n",
              "      background-color: #434B5C;\n",
              "      box-shadow: 0px 1px 3px 1px rgba(0, 0, 0, 0.15);\n",
              "      filter: drop-shadow(0px 1px 2px rgba(0, 0, 0, 0.3));\n",
              "      fill: #FFFFFF;\n",
              "    }\n",
              "  </style>\n",
              "\n",
              "      <script>\n",
              "        const buttonEl =\n",
              "          document.querySelector('#df-bb671e0a-7ebd-429f-b2a8-94ae47c81a65 button.colab-df-convert');\n",
              "        buttonEl.style.display =\n",
              "          google.colab.kernel.accessAllowed ? 'block' : 'none';\n",
              "\n",
              "        async function convertToInteractive(key) {\n",
              "          const element = document.querySelector('#df-bb671e0a-7ebd-429f-b2a8-94ae47c81a65');\n",
              "          const dataTable =\n",
              "            await google.colab.kernel.invokeFunction('convertToInteractive',\n",
              "                                                     [key], {});\n",
              "          if (!dataTable) return;\n",
              "\n",
              "          const docLinkHtml = 'Like what you see? Visit the ' +\n",
              "            '<a target=\"_blank\" href=https://colab.research.google.com/notebooks/data_table.ipynb>data table notebook</a>'\n",
              "            + ' to learn more about interactive tables.';\n",
              "          element.innerHTML = '';\n",
              "          dataTable['output_type'] = 'display_data';\n",
              "          await google.colab.output.renderOutput(dataTable, element);\n",
              "          const docLink = document.createElement('div');\n",
              "          docLink.innerHTML = docLinkHtml;\n",
              "          element.appendChild(docLink);\n",
              "        }\n",
              "      </script>\n",
              "    </div>\n",
              "  </div>\n",
              "  "
            ]
          },
          "metadata": {},
          "execution_count": 21
        }
      ],
      "source": [
        "principal_breast_Df = pd.DataFrame(data = principalComponents_breast\n",
        "             , columns = ['PC1', 'PC2'])\n",
        "principal_breast_Df"
      ]
    },
    {
      "cell_type": "markdown",
      "id": "1b2e163c-5fa8-473e-9b74-a9dd9f5e3e08",
      "metadata": {
        "id": "1b2e163c-5fa8-473e-9b74-a9dd9f5e3e08"
      },
      "source": [
        "$$\\newline$$"
      ]
    },
    {
      "cell_type": "markdown",
      "id": "09d260b5-1819-4fe9-bbe8-1bfabec5f111",
      "metadata": {
        "id": "09d260b5-1819-4fe9-bbe8-1bfabec5f111"
      },
      "source": [
        "$\\large\\textbf{Section 6.5: Variance Ratio}$"
      ]
    },
    {
      "cell_type": "markdown",
      "id": "93a537f3-19c3-4d3e-96ee-03c4c03977e3",
      "metadata": {
        "id": "93a537f3-19c3-4d3e-96ee-03c4c03977e3"
      },
      "source": [
        "The explained variance per principle component is given below for the 3D datset, then the entire dataset. Around 59% of the data is represented by the PCA component 1, and approximately 10% is represented by component 2. This leaves around 31% of the data lost after the PCA."
      ]
    },
    {
      "cell_type": "code",
      "execution_count": 22,
      "id": "817dc9c2-a4d6-4e91-9e7c-7f89ec75b9dc",
      "metadata": {
        "colab": {
          "base_uri": "https://localhost:8080/"
        },
        "id": "817dc9c2-a4d6-4e91-9e7c-7f89ec75b9dc",
        "outputId": "958bf59c-3549-403c-9503-17cdca6ea04a"
      },
      "outputs": [
        {
          "output_type": "stream",
          "name": "stdout",
          "text": [
            "The explained variance per principle component:\n"
          ]
        },
        {
          "output_type": "execute_result",
          "data": {
            "text/plain": [
              "(0.9999999999999999,\n",
              " [0.5895498258891495,\n",
              "  0.09993664171398389,\n",
              "  0.07740482029398649,\n",
              "  0.008882086082111457,\n",
              "  0.05388278841662272,\n",
              "  0.04630474985733056,\n",
              "  0.03804113993231625,\n",
              "  0.026156560877720905,\n",
              "  0.029514767907215564,\n",
              "  0.030326619029562612])"
            ]
          },
          "metadata": {},
          "execution_count": 22
        }
      ],
      "source": [
        "print('The explained variance per principle component:')\n",
        "exp_var = []\n",
        "for i in range(len(values)):\n",
        "    exp_var.append(values[i] / np.sum(values))\n",
        "\n",
        "np.sum(exp_var), exp_var"
      ]
    },
    {
      "cell_type": "code",
      "execution_count": 23,
      "id": "afe7dea7-4475-44f2-9c71-adc497d235d6",
      "metadata": {
        "colab": {
          "base_uri": "https://localhost:8080/"
        },
        "id": "afe7dea7-4475-44f2-9c71-adc497d235d6",
        "outputId": "c6e1e39e-b2ba-4347-b650-96d4f20c60c9"
      },
      "outputs": [
        {
          "output_type": "stream",
          "name": "stdout",
          "text": [
            "Explained variation per principal component: [0.58954983 0.09993664]\n"
          ]
        }
      ],
      "source": [
        "print('Explained variation per principal component: {}'.format(pca_breast.explained_variance_ratio_))"
      ]
    },
    {
      "cell_type": "markdown",
      "id": "7d8cb3af-d0b7-46ed-abd3-bc3d8c405c99",
      "metadata": {
        "id": "7d8cb3af-d0b7-46ed-abd3-bc3d8c405c99"
      },
      "source": [
        "$$\\newline$$"
      ]
    },
    {
      "cell_type": "markdown",
      "id": "d7820068-7c55-4b43-b3f1-0feba1011804",
      "metadata": {
        "id": "d7820068-7c55-4b43-b3f1-0feba1011804"
      },
      "source": [
        "$\\large\\textbf{Section 6.6: Scatter Plots}$"
      ]
    },
    {
      "cell_type": "markdown",
      "id": "031b4f46-130e-46f8-833c-b32eda8ed9a6",
      "metadata": {
        "id": "031b4f46-130e-46f8-833c-b32eda8ed9a6"
      },
      "source": [
        "The scatter plot of column 3 and 4 passed through 2 components"
      ]
    },
    {
      "cell_type": "code",
      "execution_count": 24,
      "id": "44b06b49-bd2d-47f6-aca8-af65e510ff30",
      "metadata": {
        "colab": {
          "base_uri": "https://localhost:8080/",
          "height": 297
        },
        "id": "44b06b49-bd2d-47f6-aca8-af65e510ff30",
        "outputId": "f4931bf1-370c-44a3-8b40-1da661fa3f9b"
      },
      "outputs": [
        {
          "output_type": "execute_result",
          "data": {
            "text/plain": [
              "<matplotlib.axes._subplots.AxesSubplot at 0x7f3750e230d0>"
            ]
          },
          "metadata": {},
          "execution_count": 24
        },
        {
          "output_type": "display_data",
          "data": {
            "text/plain": [
              "<Figure size 432x288 with 1 Axes>"
            ],
            "image/png": "[encoded data removed]"
          },
          "metadata": {
            "needs_background": "light"
          }
        }
      ],
      "source": [
        "sns.scatterplot(x=drop['PC1'], y=drop['PC2'], hue=drop['Class'], s=50)"
      ]
    },
    {
      "cell_type": "markdown",
      "id": "b3d8a896-7e66-477a-b706-448ea9dd215d",
      "metadata": {
        "id": "b3d8a896-7e66-477a-b706-448ea9dd215d"
      },
      "source": [
        "The scatter plots of the whole dataset passed through 2 components."
      ]
    },
    {
      "cell_type": "code",
      "execution_count": 25,
      "id": "54b08099-0a83-4959-ab35-a24181bbc888",
      "metadata": {
        "colab": {
          "base_uri": "https://localhost:8080/",
          "height": 297
        },
        "id": "54b08099-0a83-4959-ab35-a24181bbc888",
        "outputId": "41c041b7-5b39-40b1-b2cd-6c2708a0f217"
      },
      "outputs": [
        {
          "output_type": "execute_result",
          "data": {
            "text/plain": [
              "<matplotlib.axes._subplots.AxesSubplot at 0x7f374ed12dd0>"
            ]
          },
          "metadata": {},
          "execution_count": 25
        },
        {
          "output_type": "display_data",
          "data": {
            "text/plain": [
              "<Figure size 432x288 with 1 Axes>"
            ],
            "image/png": "[encoded data removed]"
          },
          "metadata": {
            "needs_background": "light"
          }
        }
      ],
      "source": [
        "sns.scatterplot(x=principal_breast_Df['PC1'], y=principal_breast_Df['PC2'], hue=drop['Class'], s=50)"
      ]
    },
    {
      "cell_type": "markdown",
      "id": "c77e6a4a-6a39-43e9-9e57-985cf521e6c0",
      "metadata": {
        "id": "c77e6a4a-6a39-43e9-9e57-985cf521e6c0"
      },
      "source": [
        "$$\\newline$$"
      ]
    },
    {
      "cell_type": "markdown",
      "id": "16f24ce7-cdb8-48d6-bcb1-fafacf508238",
      "metadata": {
        "id": "16f24ce7-cdb8-48d6-bcb1-fafacf508238"
      },
      "source": [
        "$\\large\\textbf{Section 6.7: Analysis Inference}$"
      ]
    },
    {
      "cell_type": "markdown",
      "id": "7e1f9e5b-9557-4623-b326-a8c1dffc6408",
      "metadata": {
        "id": "7e1f9e5b-9557-4623-b326-a8c1dffc6408"
      },
      "source": [
        "The above graphs show a principle component analysis for a 3D dataset, and the entire dataset given above, passed through 2 components. For both graphs there is a clear difference in grouping. Class 2 is grouped more on the left where as class 4 is grouped more on the right. In both graphs again, class 2 seems to have a higher concentration than class 4, which is more spread out. The variance ratio suggests that data is quite clustered. However class 4 is clearly more spread out than class 2, this is further seen in the scatter plots."
      ]
    },
    {
      "cell_type": "markdown",
      "id": "e9c3695e-77a5-4de5-baf9-a6666aabf0e7",
      "metadata": {
        "id": "e9c3695e-77a5-4de5-baf9-a6666aabf0e7"
      },
      "source": [
        "$$\\newline$$"
      ]
    }
  ],
  "metadata": {
    "kernelspec": {
      "display_name": "Python 3 (ipykernel)",
      "language": "python",
      "name": "python3"
    },
    "language_info": {
      "codemirror_mode": {
        "name": "ipython",
        "version": 3
      },
      "file_extension": ".py",
      "mimetype": "text/x-python",
      "name": "python",
      "nbconvert_exporter": "python",
      "pygments_lexer": "ipython3",
      "version": "3.9.6"
    },
    "colab": {
      "name": "Assignment1-Daniel Elston-210720147.ipynb",
      "provenance": []
    }
  },
  "nbformat": 4,
  "nbformat_minor": 5
}